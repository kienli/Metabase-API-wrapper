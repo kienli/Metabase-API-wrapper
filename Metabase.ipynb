{
 "cells": [
  {
   "cell_type": "markdown",
   "id": "686b8c96-dd0a-451b-a971-375ce75d64ab",
   "metadata": {},
   "source": [
    "# Metabase API Wrapper"
   ]
  },
  {
   "cell_type": "markdown",
   "id": "fe602950-b9ff-4967-960d-352770d1b30c",
   "metadata": {
    "tags": []
   },
   "source": [
    "## Authenticate"
   ]
  },
  {
   "cell_type": "code",
   "execution_count": 1,
   "id": "fc1cc633-5509-4f67-a2e4-626c4b7719dd",
   "metadata": {},
   "outputs": [
    {
     "name": "stdout",
     "output_type": "stream",
     "text": [
      " If you are not Admin, you won't be able to copy, \n",
      "            clone questions from personal collections of other users.\n"
     ]
    }
   ],
   "source": [
    "from metabase_api_fh import MetabaseAPI\n",
    "from pprint import pprint\n",
    "import secret\n",
    "\n",
    "mb = MetabaseAPI(secret.url, secret.login, secret.password, is_admin=False)"
   ]
  },
  {
   "cell_type": "code",
   "execution_count": 11,
   "id": "9a64ae24-d041-4bcf-b707-2151bd70ab2a",
   "metadata": {},
   "outputs": [
    {
     "data": {
      "text/plain": [
       "['add_card_to_dashboard',\n",
       " 'authenticate',\n",
       " 'clone_card',\n",
       " 'clone_dashboard',\n",
       " 'copy_card',\n",
       " 'copy_collection',\n",
       " 'copy_dashboard',\n",
       " 'copy_pulse',\n",
       " 'create_card',\n",
       " 'create_collection',\n",
       " 'create_segment',\n",
       " 'delete_item',\n",
       " 'friendly_names_is_disabled',\n",
       " 'make_json',\n",
       " 'move_to_archive',\n",
       " 'search',\n",
       " 'update_column',\n",
       " 'validate_session',\n",
       " 'verbose_print']"
      ]
     },
     "execution_count": 11,
     "metadata": {},
     "output_type": "execute_result"
    }
   ],
   "source": [
    "[func for func in dir(mb) if callable(getattr(mb, func)) and not func.startswith(\"__\") and func not in ('get', 'post', 'put', 'delete') and not func.startswith(\"get\")]"
   ]
  },
  {
   "cell_type": "markdown",
   "id": "2b603f72-a055-4df0-a6fc-7d8126cab27b",
   "metadata": {},
   "source": [
    "### Get help"
   ]
  },
  {
   "cell_type": "code",
   "execution_count": 2,
   "id": "9c3ff50a-ed10-4734-8200-e7dd039a2061",
   "metadata": {},
   "outputs": [
    {
     "name": "stdout",
     "output_type": "stream",
     "text": [
      "\n",
      "        Clone the dashboard with the given name/id to the given destination collection.\n",
      "        The questions will be stored in the collection Queries in the given collection.\n",
      "\n",
      "        Keyword arguments:\n",
      "        source_dashboard_name -- name of the dashboard to copy (default None) \n",
      "        source_dashboard_id -- id of the dashboard to copy (default None) \n",
      "        source_collection_name -- name of the collection the source dashboard is located in (default None) \n",
      "        source_collection_id -- id of the collection the source dashboard is located in (default None) \n",
      "        destination_dashboard_name -- name used for the dashboard in destination (default None).\n",
      "                                                    If None, it will use the name of the source dashboard + postfix.\n",
      "        destination_collection_name -- name of the collection to copy the dashboard to (default None) \n",
      "        destination_collection_id -- id of the collection to copy the dashboard to (default None)\n",
      "        target_table_id -- The ID of table that the filters of the cloned cards would be based on\n",
      "        target_table_name -- The name of the table that the filters of the cloned cards would be based on\n",
      "        postfix -- if destination_dashboard_name is None, adds this string to the end of source_dashboard_name \n",
      "                                                                                    to make destination_dashboard_name\n",
      "        \n"
     ]
    }
   ],
   "source": [
    "print(mb.clone_dashboard.__doc__)"
   ]
  },
  {
   "cell_type": "code",
   "execution_count": null,
   "id": "8ac6b2a3-a6d2-42a0-858b-b492491e8c39",
   "metadata": {},
   "outputs": [],
   "source": [
    "mb.clone_dashboard(source_dashboard_id=28, destination_dashboard_name=\"Flow Health - Disney-Sausalito - COVID-19 Dashboard\",\n",
    "                    destination_collection_id=106, target_table_name='orders_mv_sausalito')"
   ]
  },
  {
   "cell_type": "code",
   "execution_count": null,
   "id": "df68de54-46d7-4c11-9ab1-43db0f219cc6",
   "metadata": {},
   "outputs": [],
   "source": []
  }
 ],
 "metadata": {
  "kernelspec": {
   "display_name": "Python 3 (ipykernel)",
   "language": "python",
   "name": "python3"
  },
  "language_info": {
   "codemirror_mode": {
    "name": "ipython",
    "version": 3
   },
   "file_extension": ".py",
   "mimetype": "text/x-python",
   "name": "python",
   "nbconvert_exporter": "python",
   "pygments_lexer": "ipython3",
   "version": "3.9.5"
  }
 },
 "nbformat": 4,
 "nbformat_minor": 5
}
